{
  "cells": [
    {
      "cell_type": "markdown",
      "metadata": {
        "id": "11wLFBJ9K9kC"
      },
      "source": [
        "Vamos iniciar nosso notebook chamando todas as bibliotecas que usaremos. Nessa etapa, nada precisa ser modificado."
      ]
    },
    {
      "cell_type": "code",
      "execution_count": null,
      "metadata": {
        "id": "o68CyQHsK9kC"
      },
      "outputs": [],
      "source": [
        "!pip install arrow bokeh paho.mqtt -q\n",
        "from oauthlib.oauth2 import BackendApplicationClient\n",
        "from requests_oauthlib import OAuth2Session\n",
        "import pprint\n",
        "import numpy as np\n",
        "import arrow\n",
        "import requests\n",
        "import json\n",
        "import pandas as pd\n",
        "from threading import Timer\n",
        "\n",
        "#Url de publicacao dos dados\n",
        "pub_url = 'https://data.demo.konkerlabs.net/pub/'\n",
        "#Url da API\n",
        "base_api = 'https://api.demo.konkerlabs.net'\n",
        "#Application padrão\n",
        "application = 'default'"
      ]
    },
    {
      "cell_type": "code",
      "execution_count": null,
      "metadata": {
        "id": "5Xx5-L6LK9kG"
      },
      "outputs": [],
      "source": [
        "# Credenciais do usuário da Plataforma\n",
        "username = ''\n",
        "password = ''"
      ]
    },
    {
      "cell_type": "code",
      "execution_count": null,
      "metadata": {
        "id": "os4JmWszK9kG"
      },
      "outputs": [],
      "source": [
        "device_name = \"Cloud\""
      ]
    },
    {
      "cell_type": "markdown",
      "metadata": {
        "id": "llXJZavfK9kI"
      },
      "source": [
        "## Usando a API da Konker para obter os dados e analisa-los localmente\n",
        "Para iniciar esse trabalho, vamos primeiro conectar na API da Konker. A API usa OAuth2, então primeiro vamos obter as credenciais."
      ]
    },
    {
      "cell_type": "code",
      "execution_count": null,
      "metadata": {
        "id": "yvBPWrj9K9kI"
      },
      "outputs": [],
      "source": [
        "client = BackendApplicationClient(client_id=username)\n",
        "oauth = OAuth2Session(client=client)\n",
        "token = oauth.fetch_token(token_url='{}/v1/oauth/token'.format(base_api),\n",
        "                                       client_id=username,\n",
        "                                       client_secret=password)"
      ]
    },
    {
      "cell_type": "code",
      "execution_count": null,
      "metadata": {
        "id": "ElQLe5QqK9kJ"
      },
      "outputs": [],
      "source": [
        "devices = oauth.get(\"https://api.demo.konkerlabs.net/v1/{}/devices/\".format(application)).json()['result']\n",
        "for dev in devices:\n",
        "    print(dev)"
      ]
    },
    {
      "cell_type": "markdown",
      "metadata": {
        "id": "HgHLMiR6K9kJ"
      },
      "source": [
        "Vamos procurar pelo dispositivo Cloud na sua lista de dispositivos:"
      ]
    },
    {
      "cell_type": "code",
      "execution_count": null,
      "metadata": {
        "id": "4pQ1Z7V0K9kJ"
      },
      "outputs": [],
      "source": [
        "guid_dev=\"\"\n",
        "for dev in devices:\n",
        "    if dev['name'] == device_name:\n",
        "        guid_dev = dev['guid']\n",
        "\n",
        "print(\"O GUID do dispositivo é: \"+ guid_dev)"
      ]
    },
    {
      "cell_type": "markdown",
      "metadata": {
        "id": "7h_FFEksK9kJ"
      },
      "source": [
        "Caso você consiga ver o GUID do dispositivo, significa que está tudo funcionando bem. Caso o GUID não apareça, revise o nome do dispositivo no Notebook e o nome escolhido na plataforma para garantir que eles possuem a mesma grafia."
      ]
    },
    {
      "cell_type": "code",
      "execution_count": null,
      "metadata": {
        "id": "6Cq4FK4BK9kK"
      },
      "outputs": [],
      "source": [
        "dt_start = arrow.utcnow().to('America/Sao_Paulo').floor('day')\n",
        "dt_start = dt_start.shift(days=-20)\n",
        "stats = oauth.get(\"https://api.demo.konkerlabs.net/v1/{}/incomingEvents?q=device:{} timestamp:>{}&sort=oldest&limit=10000\".format(application,guid_dev,dt_start.isoformat())).json()['result']\n",
        "print(stats)"
      ]
    },
    {
      "cell_type": "code",
      "execution_count": null,
      "metadata": {
        "id": "Esv5cPnCK9kK"
      },
      "outputs": [],
      "source": [
        "stats_df = pd.json_normalize(stats).set_index('timestamp')\n",
        "stats_df"
      ]
    },
    {
      "cell_type": "markdown",
      "source": [
        "Agora você pode trabalhar com os dados no formato tabular. Lembre-se que cada aplicação do experimento 3 foi enviada em um Canal, facilitando a separação para análise de dados."
      ],
      "metadata": {
        "id": "_6NHPL6RM9iA"
      }
    },
    {
      "cell_type": "code",
      "source": [],
      "metadata": {
        "id": "mh4-mF9pM_bb"
      },
      "execution_count": null,
      "outputs": []
    }
  ],
  "metadata": {
    "kernelspec": {
      "display_name": "Python 3",
      "language": "python",
      "name": "python3"
    },
    "language_info": {
      "codemirror_mode": {
        "name": "ipython",
        "version": 3
      },
      "file_extension": ".py",
      "mimetype": "text/x-python",
      "name": "python",
      "nbconvert_exporter": "python",
      "pygments_lexer": "ipython3",
      "version": "3.7.3"
    },
    "colab": {
      "provenance": []
    }
  },
  "nbformat": 4,
  "nbformat_minor": 0
}